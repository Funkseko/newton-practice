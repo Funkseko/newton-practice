{
 "cells": [
  {
   "cell_type": "code",
   "execution_count": 48,
   "id": "8e26ca5c-8692-4ae4-bfa8-62cb6fb57d79",
   "metadata": {},
   "outputs": [
    {
     "name": "stdout",
     "output_type": "stream",
     "text": [
      "-0.27941549819892586\n",
      "1.9208981238838305\n",
      "1.1099780302856743\n"
     ]
    }
   ],
   "source": [
    "\n",
    "\n",
    "\n",
    "\n",
    "\n",
    "print(func(3))\n",
    "\n",
    "print(d1(3))\n",
    "print(d2(3))\n",
    "    \n",
    "    "
   ]
  },
  {
   "cell_type": "code",
   "execution_count": 54,
   "id": "80c460f0-e8e2-427e-b7a8-82d43bdd9c36",
   "metadata": {},
   "outputs": [],
   "source": [
    "import math\n",
    "def func(k):\n",
    "    return math.sin(k*2)\n",
    "\n",
    "def d1(k):\n",
    "    return func(k+0.001)/0.001 - func(k)/0.001\n",
    "\n",
    "def d2(k):\n",
    "    return d1(k+0.001)/0.001 - d1(k)/0.001\n",
    "\n",
    "def optimize(k):\n",
    "    k1 = 0\n",
    "    k0 = 0\n",
    "    while not abs(k1-k0) > 0.00001:\n",
    "        k0=k\n",
    "        k1 = k -d1(k)/d2(2)\n",
    "        k = k1\n",
    "    return [k, func(k)]\n",
    "        \n",
    "        "
   ]
  },
  {
   "cell_type": "code",
   "execution_count": 57,
   "id": "6da97fca-7e27-4bc4-82bd-68213a704dad",
   "metadata": {},
   "outputs": [
    {
     "data": {
      "text/plain": [
       "[4.096615054686936, 0.9430050230296588]"
      ]
     },
     "execution_count": 57,
     "metadata": {},
     "output_type": "execute_result"
    }
   ],
   "source": [
    "optimize(4)"
   ]
  },
  {
   "cell_type": "code",
   "execution_count": 58,
   "id": "aff1a3c4-2095-4f52-bbf4-4c23922b7c11",
   "metadata": {
    "scrolled": true
   },
   "outputs": [
    {
     "ename": "ModuleNotFoundError",
     "evalue": "No module named 'newton'",
     "output_type": "error",
     "traceback": [
      "\u001b[0;31m---------------------------------------------------------------------------\u001b[0m",
      "\u001b[0;31mModuleNotFoundError\u001b[0m                       Traceback (most recent call last)",
      "Cell \u001b[0;32mIn[58], line 1\u001b[0m\n\u001b[0;32m----> 1\u001b[0m \u001b[38;5;28;01mimport\u001b[39;00m \u001b[38;5;21;01mnewton\u001b[39;00m\n\u001b[1;32m      2\u001b[0m \u001b[38;5;28;01mimport\u001b[39;00m \u001b[38;5;21;01mnumpy\u001b[39;00m \u001b[38;5;28;01mas\u001b[39;00m \u001b[38;5;21;01mnp\u001b[39;00m\n\u001b[1;32m      3\u001b[0m newton\u001b[38;5;241m.\u001b[39moptimize(start, fun)   \u001b[38;5;66;03m## Assuming your function is called `optimize`.\u001b[39;00m\n",
      "\u001b[0;31mModuleNotFoundError\u001b[0m: No module named 'newton'"
     ]
    }
   ],
   "source": [
    "import newton\n",
    "import numpy as np\n",
    "newton.optimize(start, fun)   ## Assuming your function is called `optimize`.\n",
    "newton.optimize(2.5, np.cos)  ## Minimizing cos(x) from close-ish to one minimum."
   ]
  },
  {
   "cell_type": "code",
   "execution_count": null,
   "id": "22f3872f-bcf9-4386-934b-f77e17a3e24d",
   "metadata": {},
   "outputs": [],
   "source": []
  }
 ],
 "metadata": {
  "kernelspec": {
   "display_name": "Python 3 (ipykernel)",
   "language": "python",
   "name": "python3"
  },
  "language_info": {
   "codemirror_mode": {
    "name": "ipython",
    "version": 3
   },
   "file_extension": ".py",
   "mimetype": "text/x-python",
   "name": "python",
   "nbconvert_exporter": "python",
   "pygments_lexer": "ipython3",
   "version": "3.11.9"
  }
 },
 "nbformat": 4,
 "nbformat_minor": 5
}
